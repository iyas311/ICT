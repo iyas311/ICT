{
  "nbformat": 4,
  "nbformat_minor": 0,
  "metadata": {
    "colab": {
      "provenance": [],
      "authorship_tag": "ABX9TyOOBCZKQoLJj1iMlEZcHqsL",
      "include_colab_link": true
    },
    "kernelspec": {
      "name": "python3",
      "display_name": "Python 3"
    },
    "language_info": {
      "name": "python"
    }
  },
  "cells": [
    {
      "cell_type": "markdown",
      "metadata": {
        "id": "view-in-github",
        "colab_type": "text"
      },
      "source": [
        "<a href=\"https://colab.research.google.com/github/iyas311/ICT/blob/main/Untitled1.ipynb\" target=\"_parent\"><img src=\"https://colab.research.google.com/assets/colab-badge.svg\" alt=\"Open In Colab\"/></a>"
      ]
    },
    {
      "cell_type": "code",
      "execution_count": null,
      "metadata": {
        "id": "kdX40yV56WzU"
      },
      "outputs": [],
      "source": [
        "class Calculator:\n",
        "    def __init__(self):\n",
        "        print(\"Welcome to Simple Calculator\")\n",
        "        print(\"Enter 'quit' to exit\")\n",
        "\n",
        "    def evaluate_expression(self, expression):\n",
        "        try:\n",
        "            result = eval(expression)\n",
        "            return result\n",
        "        except Exception as e:\n",
        "            return f\"Error: {str(e)}\\nPlease enter correct value\"\n",
        "\n",
        "    def run(self):\n",
        "        while True:\n",
        "            expression = input(\"Enter an expression: \")\n",
        "\n",
        "            if expression.lower() == \"quit\":\n",
        "                print(\"Exiting...\")\n",
        "                break\n",
        "\n",
        "            result = self.evaluate_expression(expression)\n",
        "            print(\"Result:\", result)\n",
        "\n",
        "if __name__ == \"__main__\":\n",
        "    calc = Calculator()\n",
        "    calc.run()\n"
      ]
    }
  ]
}